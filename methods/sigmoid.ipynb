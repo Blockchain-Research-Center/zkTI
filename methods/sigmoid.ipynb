{
 "cells": [
  {
   "cell_type": "code",
   "execution_count": 1,
   "metadata": {},
   "outputs": [
    {
     "data": {
      "image/png": "[encoded data removed]",
      "text/plain": [
       "<Figure size 800x600 with 1 Axes>"
      ]
     },
     "metadata": {},
     "output_type": "display_data"
    }
   ],
   "source": [
    "import numpy as np\n",
    "import matplotlib.pyplot as plt\n",
    "from scipy.interpolate import LSQUnivariateSpline\n",
    "from sklearn.linear_model import LinearRegression\n",
    "from sklearn.preprocessing import PolynomialFeatures\n",
    "\n",
    "# 定义Sigmoid函数\n",
    "def sigmoid(x):\n",
    "    return 1 / (1 + np.exp(-x))\n",
    "\n",
    "# 设定近似范围和取样数量\n",
    "a1, an = -10, 10\n",
    "n = 500\n",
    "\n",
    "# 在近似范围内等距选取样本点\n",
    "a = np.linspace(a1, an, n)\n",
    "\n",
    "# 计算对应的Sigmoid函数值\n",
    "b = sigmoid(a)\n",
    "\n",
    "# 初始的多项式阶数和节点数量\n",
    "d = 1\n",
    "m = 20\n",
    "\n",
    "# 初始的多项式回归（无节点）\n",
    "poly_features = PolynomialFeatures(degree=d)\n",
    "X_poly = poly_features.fit_transform(a.reshape(-1, 1))\n",
    "lin_reg = LinearRegression().fit(X_poly, b)\n",
    "\n",
    "# 选取节点并拟合多项式（这里只是简单地选取等距的节点）\n",
    "knots = np.linspace(a1, an, m)[1:-1]\n",
    "spline = LSQUnivariateSpline(a, b, knots, k=d)\n",
    "\n",
    "# 绘制原始的Sigmoid函数、初始的多项式回归和样条\n",
    "x_range = np.linspace(a1, an, 1000)\n",
    "plt.figure(figsize=(8, 6))\n",
    "plt.plot(x_range, sigmoid(x_range), label='Original Sigmoid')\n",
    "plt.plot(x_range, spline(x_range), label='Spline')\n",
    "plt.legend()\n",
    "plt.show()\n"
   ]
  },
  {
   "cell_type": "code",
   "execution_count": 2,
   "metadata": {},
   "outputs": [
    {
     "ename": "SyntaxError",
     "evalue": "invalid syntax (2487129692.py, line 29)",
     "output_type": "error",
     "traceback": [
      "\u001b[0;36m  Cell \u001b[0;32mIn[2], line 29\u001b[0;36m\u001b[0m\n\u001b[0;31m    spline.\u001b[0m\n\u001b[0m           ^\u001b[0m\n\u001b[0;31mSyntaxError\u001b[0m\u001b[0;31m:\u001b[0m invalid syntax\n"
     ]
    }
   ],
   "source": [
    "import numpy as np\n",
    "import matplotlib.pyplot as plt\n",
    "from scipy.interpolate import LSQUnivariateSpline\n",
    "from sklearn.linear_model import LinearRegression\n",
    "from sklearn.preprocessing import PolynomialFeatures\n",
    "\n",
    "# 设定近似范围和取样数量\n",
    "a1, an = -10, 10\n",
    "n = 500\n",
    "\n",
    "# 在近似范围内等距选取样本点\n",
    "a = np.linspace(a1, an, n)\n",
    "\n",
    "b = np.exp(a)\n",
    "\n",
    "# 初始的多项式阶数和节点数量\n",
    "d = 1\n",
    "m = 25\n",
    "\n",
    "# 初始的多项式回归（无节点）\n",
    "poly_features = PolynomialFeatures(degree=d)\n",
    "X_poly = poly_features.fit_transform(a.reshape(-1, 1))\n",
    "lin_reg = LinearRegression().fit(X_poly, b)\n",
    "\n",
    "# 选取节点并拟合多项式（这里只是简单地选取等距的节点）\n",
    "knots = np.linspace(a1, an, m)[1:-1]\n",
    "print(knots)\n",
    "spline = LSQUnivariateSpline(a, b, knots, k=d)\n",
    "spline.\n",
    "\n",
    "# 绘制原始的Sigmoid函数、初始的多项式回归和样条\n",
    "x_range = np.linspace(a1, an, 1000)\n",
    "plt.figure(figsize=(8, 6))\n",
    "plt.plot(x_range, np.exp(x_range), label='Original Sigmoid')\n",
    "plt.plot(x_range, spline(x_range), label='Spline')\n",
    "plt.legend()\n",
    "plt.show()"
   ]
  },
  {
   "cell_type": "code",
   "execution_count": null,
   "metadata": {},
   "outputs": [
    {
     "name": "stdout",
     "output_type": "stream",
     "text": [
      "[2.0000e-04 4.0000e-04 8.0000e-04 1.6000e-03 3.2000e-03 6.4000e-03\n",
      " 1.2800e-02 2.5600e-02 5.1200e-02 1.0240e-01 2.0480e-01 4.0960e-01\n",
      " 8.1920e-01 1.6384e+00]\n"
     ]
    },
    {
     "ename": "ValueError",
     "evalue": "The input parameters have been rejected by fpchec. This means that at least one of the following conditions is violated:\n\n1) k+1 <= n-k-1 <= m\n2) t(1) <= t(2) <= ... <= t(k+1)\n   t(n-k) <= t(n-k+1) <= ... <= t(n)\n3) t(k+1) < t(k+2) < ... < t(n-k)\n4) t(k+1) <= x(i) <= t(n-k)\n5) The conditions specified by Schoenberg and Whitney must hold\n   for at least one subset of data points, i.e., there must be a\n   subset of data points y(j) such that\n       t(j) < y(j) < t(j+k+1), j=1,2,...,n-k-1\n",
     "output_type": "error",
     "traceback": [
      "\u001b[0;31m---------------------------------------------------------------------------\u001b[0m",
      "\u001b[0;31mValueError\u001b[0m                                Traceback (most recent call last)",
      "Cell \u001b[0;32mIn[53], line 28\u001b[0m\n\u001b[1;32m     26\u001b[0m knots \u001b[39m=\u001b[39m np\u001b[39m.\u001b[39marray([a1, \u001b[39m2\u001b[39m\u001b[39m*\u001b[39ma1, \u001b[39m4\u001b[39m\u001b[39m*\u001b[39ma1, \u001b[39m8\u001b[39m\u001b[39m*\u001b[39ma1, \u001b[39m16\u001b[39m\u001b[39m*\u001b[39ma1, \u001b[39m32\u001b[39m\u001b[39m*\u001b[39ma1, \u001b[39m64\u001b[39m\u001b[39m*\u001b[39ma1, \u001b[39m128\u001b[39m\u001b[39m*\u001b[39ma1, \u001b[39m256\u001b[39m\u001b[39m*\u001b[39ma1, \u001b[39m512\u001b[39m\u001b[39m*\u001b[39ma1, \u001b[39m1024\u001b[39m\u001b[39m*\u001b[39ma1, \u001b[39m2048\u001b[39m\u001b[39m*\u001b[39ma1, \u001b[39m4096\u001b[39m\u001b[39m*\u001b[39ma1, \u001b[39m8192\u001b[39m\u001b[39m*\u001b[39ma1, \u001b[39m16384\u001b[39m\u001b[39m*\u001b[39ma1, an])[\u001b[39m1\u001b[39m:\u001b[39m-\u001b[39m\u001b[39m1\u001b[39m]\n\u001b[1;32m     27\u001b[0m \u001b[39mprint\u001b[39m(knots)\n\u001b[0;32m---> 28\u001b[0m spline \u001b[39m=\u001b[39m LSQUnivariateSpline(a, b, knots, k\u001b[39m=\u001b[39;49md)\n\u001b[1;32m     30\u001b[0m \u001b[39m# 绘制原始的Sigmoid函数、初始的多项式回归和样条\u001b[39;00m\n\u001b[1;32m     31\u001b[0m x_range \u001b[39m=\u001b[39m np\u001b[39m.\u001b[39mlinspace(a1, an, \u001b[39m1000\u001b[39m)\n",
      "File \u001b[0;32m/usr/local/lib/python3.8/dist-packages/scipy/interpolate/_fitpack2.py:876\u001b[0m, in \u001b[0;36mLSQUnivariateSpline.__init__\u001b[0;34m(self, x, y, t, w, bbox, k, ext, check_finite)\u001b[0m\n\u001b[1;32m    873\u001b[0m     \u001b[39mraise\u001b[39;00m \u001b[39mValueError\u001b[39;00m(\u001b[39m'\u001b[39m\u001b[39mInterior knots t must satisfy \u001b[39m\u001b[39m'\u001b[39m\n\u001b[1;32m    874\u001b[0m                      \u001b[39m'\u001b[39m\u001b[39mSchoenberg-Whitney conditions\u001b[39m\u001b[39m'\u001b[39m)\n\u001b[1;32m    875\u001b[0m \u001b[39mif\u001b[39;00m \u001b[39mnot\u001b[39;00m dfitpack\u001b[39m.\u001b[39mfpchec(x, t, k) \u001b[39m==\u001b[39m \u001b[39m0\u001b[39m:\n\u001b[0;32m--> 876\u001b[0m     \u001b[39mraise\u001b[39;00m \u001b[39mValueError\u001b[39;00m(_fpchec_error_string)\n\u001b[1;32m    877\u001b[0m data \u001b[39m=\u001b[39m dfitpack\u001b[39m.\u001b[39mfpcurfm1(x, y, k, t, w\u001b[39m=\u001b[39mw, xb\u001b[39m=\u001b[39mxb, xe\u001b[39m=\u001b[39mxe)\n\u001b[1;32m    878\u001b[0m \u001b[39mself\u001b[39m\u001b[39m.\u001b[39m_data \u001b[39m=\u001b[39m data[:\u001b[39m-\u001b[39m\u001b[39m3\u001b[39m] \u001b[39m+\u001b[39m (\u001b[39mNone\u001b[39;00m, \u001b[39mNone\u001b[39;00m, data[\u001b[39m-\u001b[39m\u001b[39m1\u001b[39m])\n",
      "\u001b[0;31mValueError\u001b[0m: The input parameters have been rejected by fpchec. This means that at least one of the following conditions is violated:\n\n1) k+1 <= n-k-1 <= m\n2) t(1) <= t(2) <= ... <= t(k+1)\n   t(n-k) <= t(n-k+1) <= ... <= t(n)\n3) t(k+1) < t(k+2) < ... < t(n-k)\n4) t(k+1) <= x(i) <= t(n-k)\n5) The conditions specified by Schoenberg and Whitney must hold\n   for at least one subset of data points, i.e., there must be a\n   subset of data points y(j) such that\n       t(j) < y(j) < t(j+k+1), j=1,2,...,n-k-1\n"
     ]
    }
   ],
   "source": [
    "import numpy as np\n",
    "import matplotlib.pyplot as plt\n",
    "from scipy.interpolate import LSQUnivariateSpline\n",
    "from sklearn.linear_model import LinearRegression\n",
    "from sklearn.preprocessing import PolynomialFeatures\n",
    "\n",
    "# 设定近似范围和取样数量\n",
    "a1, an = 0.0001, 2\n",
    "n = 500\n",
    "\n",
    "# 在近似范围内等距选取样本点\n",
    "a = np.linspace(a1, an, n)\n",
    "\n",
    "b = np.log(a)\n",
    "\n",
    "# 初始的多项式阶数和节点数量\n",
    "d = 1\n",
    "m = 25\n",
    "\n",
    "# 初始的多项式回归（无节点）\n",
    "poly_features = PolynomialFeatures(degree=d)\n",
    "X_poly = poly_features.fit_transform(a.reshape(-1, 1))\n",
    "lin_reg = LinearRegression().fit(X_poly, b)\n",
    "\n",
    "# 选取节点并拟合多项式（这里只是简单地选取等距的节点）\n",
    "knots = np.linspace(a1, an, m)[1:-1]\n",
    "spline = LSQUnivariateSpline(a, b, knots, k=d)\n",
    "\n",
    "# 绘制原始的Sigmoid函数、初始的多项式回归和样条\n",
    "x_range = np.linspace(a1, an, 1000)\n",
    "plt.figure(figsize=(8, 6))\n",
    "plt.plot(x_range, np.log(x_range), label='Original Sigmoid')\n",
    "plt.plot(x_range, spline(x_range), label='Spline')\n",
    "plt.legend()\n",
    "plt.show()"
   ]
  }
 ],
 "metadata": {
  "kernelspec": {
   "display_name": "Python 3",
   "language": "python",
   "name": "python3"
  },
  "language_info": {
   "codemirror_mode": {
    "name": "ipython",
    "version": 3
   },
   "file_extension": ".py",
   "mimetype": "text/x-python",
   "name": "python",
   "nbconvert_exporter": "python",
   "pygments_lexer": "ipython3",
   "version": "3.8.10"
  },
  "orig_nbformat": 4
 },
 "nbformat": 4,
 "nbformat_minor": 2
}
